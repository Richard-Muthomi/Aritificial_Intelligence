{
 "cells": [
  {
   "cell_type": "code",
   "execution_count": 2,
   "id": "344e1eaf",
   "metadata": {},
   "outputs": [
    {
     "name": "stdout",
     "output_type": "stream",
     "text": [
      "Defaulting to user installation because normal site-packages is not writeable\n",
      "Collecting pulp\n",
      "  Downloading PuLP-2.7.0-py3-none-any.whl (14.3 MB)\n",
      "     ---------------------------------------- 14.3/14.3 MB 1.8 MB/s eta 0:00:00\n",
      "Installing collected packages: pulp\n",
      "Successfully installed pulp-2.7.0\n"
     ]
    },
    {
     "name": "stderr",
     "output_type": "stream",
     "text": [
      "  WARNING: The script pulptest.exe is installed in 'C:\\Users\\ADMIN\\AppData\\Roaming\\Python\\Python310\\Scripts' which is not on PATH.\n",
      "  Consider adding this directory to PATH or, if you prefer to suppress this warning, use --no-warn-script-location.\n"
     ]
    }
   ],
   "source": [
    "!pip install pulp"
   ]
  },
  {
   "cell_type": "code",
   "execution_count": 9,
   "id": "e6b18fbe",
   "metadata": {},
   "outputs": [
    {
     "name": "stdout",
     "output_type": "stream",
     "text": [
      "Variables \n",
      " {('economy', 'pork'): weight_kg_('economy',_'pork'), ('economy', 'wheat'): weight_kg_('economy',_'wheat'), ('economy', 'starch'): weight_kg_('economy',_'starch'), ('premium', 'pork'): weight_kg_('premium',_'pork'), ('premium', 'wheat'): weight_kg_('premium',_'wheat'), ('premium', 'starch'): weight_kg_('premium',_'starch')}\n",
      "\n",
      " Displaying the problem \n",
      "..........................\n",
      " Cost_minimizing_blending_problem:\n",
      "MINIMIZE\n",
      "4.32*weight_kg_('economy',_'pork') + 1.86*weight_kg_('economy',_'starch') + 2.46*weight_kg_('economy',_'wheat') + 4.32*weight_kg_('premium',_'pork') + 1.86*weight_kg_('premium',_'starch') + 2.46*weight_kg_('premium',_'wheat') + 0.0\n",
      "SUBJECT TO\n",
      "_C1: weight_kg_('economy',_'pork') + weight_kg_('economy',_'starch')\n",
      " + weight_kg_('economy',_'wheat') = 17.5\n",
      "\n",
      "_C2: weight_kg_('premium',_'pork') + weight_kg_('premium',_'starch')\n",
      " + weight_kg_('premium',_'wheat') = 25\n",
      "\n",
      "_C3: 0.6 weight_kg_('economy',_'pork') - 0.4 weight_kg_('economy',_'starch')\n",
      " - 0.4 weight_kg_('economy',_'wheat') >= 0\n",
      "\n",
      "_C4: 0.4 weight_kg_('premium',_'pork') - 0.6 weight_kg_('premium',_'starch')\n",
      " - 0.6 weight_kg_('premium',_'wheat') >= 0\n",
      "\n",
      "_C5: - 0.25 weight_kg_('economy',_'pork')\n",
      " + 0.75 weight_kg_('economy',_'starch') - 0.25 weight_kg_('economy',_'wheat')\n",
      " <= 0\n",
      "\n",
      "_C6: - 0.25 weight_kg_('premium',_'pork')\n",
      " + 0.75 weight_kg_('premium',_'starch') - 0.25 weight_kg_('premium',_'wheat')\n",
      " <= 0\n",
      "\n",
      "_C7: weight_kg_('economy',_'pork') + weight_kg_('premium',_'pork') <= 30\n",
      "\n",
      "_C8: weight_kg_('economy',_'wheat') + weight_kg_('premium',_'wheat') <= 20\n",
      "\n",
      "_C9: weight_kg_('economy',_'starch') + weight_kg_('premium',_'starch') <= 17\n",
      "\n",
      "_C10: weight_kg_('economy',_'pork') + weight_kg_('premium',_'pork') >= 23\n",
      "\n",
      "VARIABLES\n",
      "weight_kg_('economy',_'pork') Continuous\n",
      "weight_kg_('economy',_'starch') Continuous\n",
      "weight_kg_('economy',_'wheat') Continuous\n",
      "weight_kg_('premium',_'pork') Continuous\n",
      "weight_kg_('premium',_'starch') Continuous\n",
      "weight_kg_('premium',_'wheat') Continuous\n",
      "\n",
      "\n",
      " Solution status \n",
      "..........................\n",
      " Optimal\n",
      "\n",
      " Final solution \n",
      "..........................\n",
      "\n",
      "The weight of pork in economy sausages is 7.0 kg\n",
      "The weight of wheat in economy sausages is 6.125 kg\n",
      "The weight of starch in economy sausages is 4.375 kg\n",
      "The weight of pork in premium sausages is 16.0 kg\n",
      "The weight of wheat in premium sausages is 2.75 kg\n",
      "The weight of starch in premium sausages is 6.25 kg\n",
      "The total cost is ${} for 350 economy sausages and 500 premium sausages 140.96\n"
     ]
    }
   ],
   "source": [
    "import pulp\n",
    "\n",
    "#initialize problem class\n",
    "Lp_prob=pulp.LpProblem(\"Cost minimizing blending problem\",pulp.LpMinimize)\n",
    "\n",
    "#construct our decision variable lists\n",
    "sausage_types=['economy','premium']\n",
    "ingredients=['pork','wheat','starch']\n",
    "\n",
    "#declare variables\n",
    "ing_weight=pulp.LpVariable.dicts(\"weight kg\",\n",
    "                                ((i,j)for i in sausage_types for j in ingredients),\n",
    "                                 lowBound=0,\n",
    "                                 cat=\"Continuous\")\n",
    "print(\"Variables \\n\",ing_weight)\n",
    "\n",
    "#objective function\n",
    "Lp_prob += (pulp.lpSum([4.32 * ing_weight[(i,'pork')]+ 2.46 * ing_weight[(i,'wheat')] \n",
    "                       + 1.86 * ing_weight[(i,'starch')]for i in sausage_types]))\n",
    "\n",
    "#constraints\n",
    "#350 economy and 500 premium sausages at 0.05 kg\n",
    "Lp_prob += pulp.lpSum([ing_weight['economy',j]for j in ingredients])==350 * 0.05\n",
    "Lp_prob += pulp.lpSum([ing_weight['premium',j]for j in ingredients])==500 * 0.05\n",
    "\n",
    "#economy has >= 40% pork,premium >= 60% pork\n",
    "Lp_prob += ing_weight['economy','pork']>=(0.4 * pulp.lpSum([ing_weight['economy',j]for j in ingredients]))\n",
    "Lp_prob += ing_weight['premium','pork']>=(0.6 * pulp.lpSum([ing_weight['premium',j]for j in ingredients]))\n",
    "\n",
    "#sausages must be <= 25% starch\n",
    "Lp_prob += ing_weight['economy','starch']<=(0.25 * pulp.lpSum([ing_weight['economy',j]for j in ingredients]))\n",
    "Lp_prob += ing_weight['premium','starch']<=(0.25 * pulp.lpSum([ing_weight['premium',j]for j in ingredients]))\n",
    "\n",
    "#we have at most 30kg of pork,20kg of wheat and 17kg of starch available\n",
    "Lp_prob += pulp.lpSum([ing_weight[i,'pork']for i in sausage_types])<=30\n",
    "Lp_prob += pulp.lpSum([ing_weight[i,'wheat']for i in sausage_types])<=20\n",
    "Lp_prob += pulp.lpSum([ing_weight[i,'starch']for i in sausage_types])<=17\n",
    "\n",
    "#we have at least 23kg of pork to use up\n",
    "Lp_prob += pulp.lpSum([ing_weight[i,'pork']for i in sausage_types])>=23\n",
    "\n",
    "#solve the problem\n",
    "status=Lp_prob.solve()\n",
    "\n",
    "#display\n",
    "print(\"\\n Displaying the problem \\n..........................\\n\",Lp_prob)\n",
    "print(\"\\n Solution status \\n..........................\\n\",pulp.LpStatus[status]) #solution status\n",
    "print(\"\\n Final solution \\n..........................\\n\")\n",
    "\n",
    "for var in ing_weight:\n",
    "    var_value = ing_weight[var].varValue\n",
    "    print(\"The weight of\",var[1],\"in\",var[0],\"sausages is\",var_value,\"kg\")\n",
    "\n",
    "total_cost=pulp.value(Lp_prob.objective)\n",
    "\n",
    "print(\"The total cost is ${} for 350 economy sausages and 500 premium sausages\",format(round(total_cost,2)))\n",
    "\n"
   ]
  },
  {
   "cell_type": "code",
   "execution_count": null,
   "id": "e31df53c",
   "metadata": {},
   "outputs": [],
   "source": []
  }
 ],
 "metadata": {
  "kernelspec": {
   "display_name": "Python 3 (ipykernel)",
   "language": "python",
   "name": "python3"
  },
  "language_info": {
   "codemirror_mode": {
    "name": "ipython",
    "version": 3
   },
   "file_extension": ".py",
   "mimetype": "text/x-python",
   "name": "python",
   "nbconvert_exporter": "python",
   "pygments_lexer": "ipython3",
   "version": "3.10.9"
  }
 },
 "nbformat": 4,
 "nbformat_minor": 5
}
