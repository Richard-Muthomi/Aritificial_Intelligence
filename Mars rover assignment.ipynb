{
 "cells": [
  {
   "cell_type": "markdown",
   "id": "9deceb01",
   "metadata": {},
   "source": [
    "## Mars rover Assignment"
   ]
  },
  {
   "cell_type": "code",
   "execution_count": 1,
   "id": "09e4c0dd",
   "metadata": {},
   "outputs": [
    {
     "name": "stdout",
     "output_type": "stream",
     "text": [
      "Starting Exploration...\n",
      "Venture 1\n",
      "Venture 2\n",
      "Sampled rock at Location2\n",
      "Sampled rock at Location3\n",
      "Exploration Completed.\n",
      "Rover Performance:\n",
      "Total Samples: 2\n",
      "Unique Samples: 2\n"
     ]
    }
   ],
   "source": [
    "import random\n",
    "\n",
    "class RoverPerformance:\n",
    "    def __init__(self):\n",
    "        self.total_samples = 0\n",
    "        self.unique_samples = set()\n",
    "\n",
    "    def record_sample(self, location):\n",
    "        self.total_samples += 1\n",
    "        self.unique_samples.add(location)\n",
    "\n",
    "    def display_performance(self):\n",
    "        print(\"Rover Performance:\")\n",
    "        print(\"Total Samples:\", self.total_samples)\n",
    "        print(\"Unique Samples:\", len(self.unique_samples))\n",
    "\n",
    "class MarsEnvironment:\n",
    "    def __init__(self):\n",
    "        self.locations = {\n",
    "            \"Location1\": False,\n",
    "            \"Location2\": False,\n",
    "            \"Location3\": False,\n",
    "            \"Location4\": False\n",
    "        }\n",
    "\n",
    "    def update_environment(self):\n",
    "        for location in self.locations:\n",
    "            self.locations[location] = random.choice([True, False])\n",
    "\n",
    "    def has_rock(self, location):\n",
    "        return self.locations[location]\n",
    "\n",
    "class RoverAgent:\n",
    "    def __init__(self, performance, environment):\n",
    "        self.performance = performance\n",
    "        self.environment = environment\n",
    "\n",
    "    def explore(self):\n",
    "        print(\"Starting Exploration...\")\n",
    "\n",
    "        for i in range(2):\n",
    "            print(\"Venture\", i+1)\n",
    "\n",
    "            for location in self.environment.locations:\n",
    "                if self.environment.has_rock(location) and location not in self.performance.unique_samples:\n",
    "                    self.performance.record_sample(location)\n",
    "                    print(\"Sampled rock at\", location)\n",
    "\n",
    "            self.environment.update_environment()\n",
    "\n",
    "        print(\"Exploration Completed.\")\n",
    "\n",
    "# Main program\n",
    "performance = RoverPerformance()\n",
    "environment = MarsEnvironment()\n",
    "rover = RoverAgent(performance, environment)\n",
    "\n",
    "rover.explore()\n",
    "\n",
    "performance.display_performance()\n"
   ]
  },
  {
   "cell_type": "code",
   "execution_count": null,
   "id": "86d24ceb",
   "metadata": {},
   "outputs": [],
   "source": []
  },
  {
   "cell_type": "code",
   "execution_count": null,
   "id": "ff44fa8f",
   "metadata": {},
   "outputs": [],
   "source": []
  }
 ],
 "metadata": {
  "kernelspec": {
   "display_name": "Python 3 (ipykernel)",
   "language": "python",
   "name": "python3"
  },
  "language_info": {
   "codemirror_mode": {
    "name": "ipython",
    "version": 3
   },
   "file_extension": ".py",
   "mimetype": "text/x-python",
   "name": "python",
   "nbconvert_exporter": "python",
   "pygments_lexer": "ipython3",
   "version": "3.10.9"
  }
 },
 "nbformat": 4,
 "nbformat_minor": 5
}
