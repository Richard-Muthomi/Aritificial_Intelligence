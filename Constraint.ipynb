{
 "cells": [
  {
   "cell_type": "code",
   "execution_count": 3,
   "id": "318f1250",
   "metadata": {},
   "outputs": [
    {
     "name": "stdout",
     "output_type": "stream",
     "text": [
      "Enter the cost of the drink12\n",
      "Enter cash50\n",
      "{'e': 0, 'c': 2, 'd': 0, 'b': 3, 'a': 3}\n",
      "{'e': 0, 'c': 1, 'd': 1, 'b': 1, 'a': 3}\n",
      "{'e': 0, 'c': 0, 'd': 1, 'b': 3, 'a': 3}\n",
      "Best solution is {'e': 0, 'c': 1, 'd': 1, 'b': 1, 'a': 3}\n"
     ]
    }
   ],
   "source": [
    "import constraint\n",
    "problem = constraint.Problem()\n",
    "t= int(input(\"Enter the cost of the drink\"))\n",
    "p=0\n",
    "\n",
    "while ((p<t) or p>50):\n",
    "    p=int(input(\"Enter cash\"))\n",
    "\n",
    "problem.addVariable(\"a\",range(6))\n",
    "problem.addVariable(\"b\",range(5))\n",
    "problem.addVariable(\"c\",range(3))\n",
    "problem.addVariable(\"d\",range(3))\n",
    "problem.addVariable(\"e\",range(2))\n",
    "\n",
    "#constraint\n",
    "def changeConstraint(a,b,c,d,e):\n",
    "    if(a*1 + b*5 + c*10 + d*20 + e*40)==p-t:\n",
    "        return True\n",
    "\n",
    "problem.addConstraint(changeConstraint,\"abcde\")\n",
    "solutions=problem.getSolutions()\n",
    "coins=1000\n",
    "\n",
    "for s in solutions:\n",
    "    coinCount = s[\"a\"] + s[\"b\"] + s[\"c\"] + s[\"d\"] + s[\"e\"]\n",
    "    print (s)\n",
    "    \n",
    "    if coinCount<coins:\n",
    "        coins=coinCount\n",
    "        bestSolution = s\n",
    "\n",
    "print(\"Best solution is\",bestSolution)"
   ]
  },
  {
   "cell_type": "code",
   "execution_count": null,
   "id": "9717edec",
   "metadata": {},
   "outputs": [],
   "source": []
  }
 ],
 "metadata": {
  "kernelspec": {
   "display_name": "Python 3 (ipykernel)",
   "language": "python",
   "name": "python3"
  },
  "language_info": {
   "codemirror_mode": {
    "name": "ipython",
    "version": 3
   },
   "file_extension": ".py",
   "mimetype": "text/x-python",
   "name": "python",
   "nbconvert_exporter": "python",
   "pygments_lexer": "ipython3",
   "version": "3.10.9"
  }
 },
 "nbformat": 4,
 "nbformat_minor": 5
}
