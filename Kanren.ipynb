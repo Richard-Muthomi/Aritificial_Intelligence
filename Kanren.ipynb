{
 "cells": [
  {
   "cell_type": "markdown",
   "id": "128d829d",
   "metadata": {},
   "source": [
    "## tools"
   ]
  },
  {
   "cell_type": "code",
   "execution_count": 1,
   "id": "bec08d26",
   "metadata": {},
   "outputs": [
    {
     "name": "stdout",
     "output_type": "stream",
     "text": [
      "Defaulting to user installation because normal site-packages is not writeable\n",
      "Collecting kanren\n",
      "  Downloading kanren-0.2.3.tar.gz (23 kB)\n",
      "  Preparing metadata (setup.py): started\n",
      "  Preparing metadata (setup.py): finished with status 'done'\n",
      "Requirement already satisfied: toolz in c:\\programdata\\anaconda3\\lib\\site-packages (from kanren) (0.12.0)\n",
      "Requirement already satisfied: multipledispatch in c:\\programdata\\anaconda3\\lib\\site-packages (from kanren) (0.6.0)\n",
      "Collecting unification\n",
      "  Downloading unification-0.2.2-py2.py3-none-any.whl (10 kB)\n",
      "Requirement already satisfied: six in c:\\programdata\\anaconda3\\lib\\site-packages (from multipledispatch->kanren) (1.16.0)\n",
      "Building wheels for collected packages: kanren\n",
      "  Building wheel for kanren (setup.py): started\n",
      "  Building wheel for kanren (setup.py): finished with status 'done'\n",
      "  Created wheel for kanren: filename=kanren-0.2.3-py3-none-any.whl size=15892 sha256=c2c5a022666066b85aba2c07570f360ff675ece566e61a6514b37c6bb96984d2\n",
      "  Stored in directory: c:\\users\\admin\\appdata\\local\\pip\\cache\\wheels\\1b\\ec\\13\\2f55a76048b9f8161219b9c24e04b099d281e52c39003c15a6\n",
      "Successfully built kanren\n",
      "Installing collected packages: unification, kanren\n",
      "Successfully installed kanren-0.2.3 unification-0.2.2\n"
     ]
    }
   ],
   "source": [
    "!pip install kanren"
   ]
  },
  {
   "cell_type": "code",
   "execution_count": 6,
   "id": "400f4ef4",
   "metadata": {},
   "outputs": [
    {
     "name": "stdout",
     "output_type": "stream",
     "text": [
      "Defaulting to user installation because normal site-packages is not writeable\n",
      "Requirement already satisfied: minikanren in c:\\users\\admin\\appdata\\roaming\\python\\python310\\site-packages (1.0.3)\n",
      "Requirement already satisfied: multipledispatch in c:\\programdata\\anaconda3\\lib\\site-packages (from minikanren) (0.6.0)\n",
      "Requirement already satisfied: cons>=0.4.0 in c:\\users\\admin\\appdata\\roaming\\python\\python310\\site-packages (from minikanren) (0.4.6)\n",
      "Requirement already satisfied: etuples>=0.3.1 in c:\\users\\admin\\appdata\\roaming\\python\\python310\\site-packages (from minikanren) (0.3.9)\n",
      "Requirement already satisfied: toolz in c:\\programdata\\anaconda3\\lib\\site-packages (from minikanren) (0.12.0)\n",
      "Requirement already satisfied: logical-unification>=0.4.1 in c:\\users\\admin\\appdata\\roaming\\python\\python310\\site-packages (from minikanren) (0.4.6)\n",
      "Requirement already satisfied: six in c:\\programdata\\anaconda3\\lib\\site-packages (from multipledispatch->minikanren) (1.16.0)\n"
     ]
    }
   ],
   "source": [
    "!pip install minikanren"
   ]
  },
  {
   "cell_type": "code",
   "execution_count": 7,
   "id": "4837e3f6",
   "metadata": {},
   "outputs": [
    {
     "name": "stdout",
     "output_type": "stream",
     "text": [
      "The run command: ('languages',)\n"
     ]
    }
   ],
   "source": [
    "from kanren import *\n",
    "tools=Relation()\n",
    "facts(tools,(\"languages\",\"java\"),(\"languages\",\"python\"),\n",
    "     (\"packages\",\"word\"),(\"packages\",\"excel\"),\n",
    "     (\"os\",\"windows\"),(\"os\",\"linux\"))\n",
    "x=var()\n",
    "\n",
    "print(\"The run command:\",run(0,x,tools(x,\"java\")))"
   ]
  },
  {
   "cell_type": "code",
   "execution_count": 8,
   "id": "51a81760",
   "metadata": {},
   "outputs": [
    {
     "name": "stdout",
     "output_type": "stream",
     "text": [
      "(5,)\n"
     ]
    }
   ],
   "source": [
    "x=var()\n",
    "print(run(0,x,eq(x,5)))"
   ]
  },
  {
   "cell_type": "code",
   "execution_count": 9,
   "id": "a76d8ffa",
   "metadata": {},
   "outputs": [
    {
     "name": "stdout",
     "output_type": "stream",
     "text": [
      "([5, 5],)\n"
     ]
    }
   ],
   "source": [
    "x,y=var(),var()\n",
    "print(run(0,[x,y],eq(x,y),eq(x,5)))"
   ]
  },
  {
   "cell_type": "code",
   "execution_count": 11,
   "id": "2084184e",
   "metadata": {},
   "outputs": [
    {
     "name": "stdout",
     "output_type": "stream",
     "text": [
      "(2, 3)\n"
     ]
    }
   ],
   "source": [
    "print(run(0,x,membero(x,(1,2,3)),membero(x,(2,3,4))))"
   ]
  },
  {
   "cell_type": "code",
   "execution_count": 13,
   "id": "13ba0f99",
   "metadata": {},
   "outputs": [
    {
     "name": "stdout",
     "output_type": "stream",
     "text": [
      "(2,)\n"
     ]
    }
   ],
   "source": [
    "from kanren.constraints import neq\n",
    "\n",
    "print(run(0,x,neq(x,1),neq(x,3),membero(x,(1,2,3))))"
   ]
  },
  {
   "cell_type": "code",
   "execution_count": null,
   "id": "481de283",
   "metadata": {},
   "outputs": [],
   "source": []
  }
 ],
 "metadata": {
  "kernelspec": {
   "display_name": "Python 3 (ipykernel)",
   "language": "python",
   "name": "python3"
  },
  "language_info": {
   "codemirror_mode": {
    "name": "ipython",
    "version": 3
   },
   "file_extension": ".py",
   "mimetype": "text/x-python",
   "name": "python",
   "nbconvert_exporter": "python",
   "pygments_lexer": "ipython3",
   "version": "3.10.9"
  }
 },
 "nbformat": 4,
 "nbformat_minor": 5
}
