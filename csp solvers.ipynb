{
 "cells": [
  {
   "cell_type": "markdown",
   "id": "3ad92ae3",
   "metadata": {},
   "source": [
    "## CSP solvers"
   ]
  },
  {
   "cell_type": "code",
   "execution_count": 2,
   "id": "7fe3c973",
   "metadata": {},
   "outputs": [
    {
     "name": "stdout",
     "output_type": "stream",
     "text": [
      "{'nt': 'b', 'ql': 'g', 'sa': 'r', 'sw': 'b', 't': 'b', 'v': 'g', 'wa': 'g'}\n",
      "{'nt': 'b', 'ql': 'g', 'sa': 'r', 'sw': 'b', 't': 'r', 'v': 'g', 'wa': 'g'}\n",
      "{'nt': 'b', 'ql': 'r', 'sa': 'g', 'sw': 'b', 't': 'b', 'v': 'r', 'wa': 'r'}\n",
      "{'nt': 'b', 'ql': 'r', 'sa': 'g', 'sw': 'b', 't': 'g', 'v': 'r', 'wa': 'r'}\n",
      "{'nt': 'g', 'ql': 'b', 'sa': 'r', 'sw': 'g', 't': 'g', 'v': 'b', 'wa': 'b'}\n",
      "{'nt': 'g', 'ql': 'b', 'sa': 'r', 'sw': 'g', 't': 'r', 'v': 'b', 'wa': 'b'}\n",
      "{'nt': 'g', 'ql': 'r', 'sa': 'b', 'sw': 'g', 't': 'b', 'v': 'r', 'wa': 'r'}\n",
      "{'nt': 'g', 'ql': 'r', 'sa': 'b', 'sw': 'g', 't': 'g', 'v': 'r', 'wa': 'r'}\n",
      "{'nt': 'r', 'ql': 'b', 'sa': 'g', 'sw': 'r', 't': 'g', 'v': 'b', 'wa': 'b'}\n",
      "{'nt': 'r', 'ql': 'b', 'sa': 'g', 'sw': 'r', 't': 'r', 'v': 'b', 'wa': 'b'}\n",
      "{'nt': 'r', 'ql': 'g', 'sa': 'b', 'sw': 'r', 't': 'b', 'v': 'g', 'wa': 'g'}\n",
      "{'nt': 'r', 'ql': 'g', 'sa': 'b', 'sw': 'r', 't': 'r', 'v': 'g', 'wa': 'g'}\n"
     ]
    }
   ],
   "source": [
    "import constraint\n",
    "\n",
    "problem=constraint.Problem()\n",
    "problem.addVariable(\"wa\",[\"r\",\"g\",\"b\"])\n",
    "problem.addVariable(\"nt\",[\"r\",\"g\",\"b\"])\n",
    "problem.addVariable(\"sa\",[\"r\",\"g\",\"b\"])\n",
    "problem.addVariable(\"ql\",[\"r\",\"g\",\"b\"])\n",
    "problem.addVariable(\"sw\",[\"r\",\"g\",\"b\"])\n",
    "problem.addVariable(\"v\",[\"r\",\"g\",\"b\"])\n",
    "problem.addVariable(\"t\",[\"r\",\"g\",\"b\"])\n",
    "\n",
    "def myConstraint(wa,nt,sa,ql,sw,v,t):\n",
    "    if(wa != nt) and (wa != sa) and \\\n",
    "    (sa != nt)and (sa != ql)and (sa != sw) and (sa != v) and \\\n",
    "    (nt != ql) and (ql != sw) and (sw != v) and (v != t):\n",
    "        return True\n",
    "\n",
    "problem.addConstraint(myConstraint,[\"wa\",\"nt\",\"sa\",\"ql\",\"sw\",\"v\",\"t\"])\n",
    "solutions = problem.getSolutions()\n",
    "\n",
    "for s in solutions:\n",
    "    print(s)"
   ]
  },
  {
   "cell_type": "code",
   "execution_count": null,
   "id": "eff8a793",
   "metadata": {},
   "outputs": [],
   "source": []
  }
 ],
 "metadata": {
  "kernelspec": {
   "display_name": "Python 3 (ipykernel)",
   "language": "python",
   "name": "python3"
  },
  "language_info": {
   "codemirror_mode": {
    "name": "ipython",
    "version": 3
   },
   "file_extension": ".py",
   "mimetype": "text/x-python",
   "name": "python",
   "nbconvert_exporter": "python",
   "pygments_lexer": "ipython3",
   "version": "3.10.9"
  }
 },
 "nbformat": 4,
 "nbformat_minor": 5
}
