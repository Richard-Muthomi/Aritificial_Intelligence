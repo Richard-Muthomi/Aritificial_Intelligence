{
 "cells": [
  {
   "cell_type": "markdown",
   "id": "b0051a64",
   "metadata": {},
   "source": [
    "## Medical Diagnosis"
   ]
  },
  {
   "cell_type": "code",
   "execution_count": 6,
   "id": "8050571d",
   "metadata": {},
   "outputs": [
    {
     "name": "stdout",
     "output_type": "stream",
     "text": [
      "Is vomiting associated with Tuberculosis? False\n",
      "Are vomiting and High Fever associated with Tuberculosis? False\n",
      "Tuberculosis symptoms: (~_16, ~_16, ~_16, ~_16, ~_16, ~_16, ~_16, ~_16, ~_16, ~_16, ~_16, ~_16, ~_16, ~_16, ~_16, ~_16, ~_16)\n",
      "Emergency diseases with vomiting as a symptom: []\n",
      "Emergency diseases with vomiting and High Fever as symptoms: []\n",
      "Common symptoms of Tuberculosis and the Common Cold: (~_23, ~_23, ~_23, ~_23, ~_23, ~_23, ~_23, ~_23)\n"
     ]
    },
    {
     "ename": "TypeError",
     "evalue": "bad operand type for unary ~: 'function'",
     "output_type": "error",
     "traceback": [
      "\u001b[1;31m---------------------------------------------------------------------------\u001b[0m",
      "\u001b[1;31mTypeError\u001b[0m                                 Traceback (most recent call last)",
      "Cell \u001b[1;32mIn[6], line 53\u001b[0m\n\u001b[0;32m     50\u001b[0m \u001b[38;5;28;01mdef\u001b[39;00m \u001b[38;5;21mdifferent_symptom\u001b[39m(disease1, disease2, symptom):\n\u001b[0;32m     51\u001b[0m     \u001b[38;5;28;01mreturn\u001b[39;00m conde((has_symptom(disease1, symptom), \u001b[38;5;241m~\u001b[39mhas_symptom(disease2, symptom)))\n\u001b[1;32m---> 53\u001b[0m different_symptoms_tb_cold \u001b[38;5;241m=\u001b[39m run(\u001b[38;5;241m0\u001b[39m, var(), \u001b[43mdifferent_symptom\u001b[49m\u001b[43m(\u001b[49m\u001b[38;5;124;43m\"\u001b[39;49m\u001b[38;5;124;43mTuberculosis\u001b[39;49m\u001b[38;5;124;43m\"\u001b[39;49m\u001b[43m,\u001b[49m\u001b[43m \u001b[49m\u001b[38;5;124;43m\"\u001b[39;49m\u001b[38;5;124;43mCommon Cold\u001b[39;49m\u001b[38;5;124;43m\"\u001b[39;49m\u001b[43m,\u001b[49m\u001b[43m \u001b[49m\u001b[43mvar\u001b[49m\u001b[43m(\u001b[49m\u001b[43m)\u001b[49m\u001b[43m)\u001b[49m)\n\u001b[0;32m     54\u001b[0m \u001b[38;5;28mprint\u001b[39m(\u001b[38;5;124m\"\u001b[39m\u001b[38;5;124mDifferent symptoms of Tuberculosis and the Common Cold:\u001b[39m\u001b[38;5;124m\"\u001b[39m, different_symptoms_tb_cold)\n",
      "Cell \u001b[1;32mIn[6], line 51\u001b[0m, in \u001b[0;36mdifferent_symptom\u001b[1;34m(disease1, disease2, symptom)\u001b[0m\n\u001b[0;32m     50\u001b[0m \u001b[38;5;28;01mdef\u001b[39;00m \u001b[38;5;21mdifferent_symptom\u001b[39m(disease1, disease2, symptom):\n\u001b[1;32m---> 51\u001b[0m     \u001b[38;5;28;01mreturn\u001b[39;00m conde((has_symptom(disease1, symptom), \u001b[38;5;241;43m~\u001b[39;49m\u001b[43mhas_symptom\u001b[49m\u001b[43m(\u001b[49m\u001b[43mdisease2\u001b[49m\u001b[43m,\u001b[49m\u001b[43m \u001b[49m\u001b[43msymptom\u001b[49m\u001b[43m)\u001b[49m))\n",
      "\u001b[1;31mTypeError\u001b[0m: bad operand type for unary ~: 'function'"
     ]
    }
   ],
   "source": [
    "from kanren import *\n",
    "import pandas as pd\n",
    "\n",
    "data = pd.read_csv('diagnosis.csv',header=None)\n",
    "def extract_disease_symptoms(row):\n",
    "    disease = row[0]\n",
    "    symptoms = row[1:]\n",
    "    return [(disease, symptom) for symptom in symptoms]\n",
    "\n",
    "# Unpack the data and convert it into individual tuples\n",
    "symptom_disease_pairs = data.apply(extract_disease_symptoms, axis=1).explode().tolist()\n",
    "\n",
    "has_symptom = Relation()\n",
    "\n",
    "# Load the data into the has_symptom relation using facts\n",
    "facts(has_symptom, *symptom_disease_pairs)\n",
    "\n",
    "# Helper function to check if two diseases have a common symptom\n",
    "def have_common_symptom(disease1, disease2, symptom):\n",
    "    return conde((has_symptom(disease1, symptom), has_symptom(disease2, symptom)))\n",
    "\n",
    "# Query 1: Is vomiting associated with Tuberculosis?\n",
    "vomiting_and_tb = run(0, var(), has_symptom(\"Tuberculosis\", \"Vomiting\"))\n",
    "print(\"Is vomiting associated with Tuberculosis?\", len(vomiting_and_tb) > 0)\n",
    "\n",
    "# Query 2: Are vomiting and High Fever associated with Tuberculosis?\n",
    "vomiting_fever_and_tb = run(0, var(), has_symptom(\"Tuberculosis\", \"Vomiting\"), has_symptom(\"Tuberculosis\", \"High Fever\"))\n",
    "print(\"Are vomiting and High Fever associated with Tuberculosis?\", len(vomiting_fever_and_tb) > 0)\n",
    "\n",
    "# Query 3: What are Tuberculosis symptoms?\n",
    "tb_symptoms = run(0, var(), has_symptom(\"Tuberculosis\", var()))\n",
    "print(\"Tuberculosis symptoms:\", tb_symptoms)\n",
    "\n",
    "# Query 4: Which emergency diseases have vomiting as a symptom?\n",
    "emergency_diseases_with_vomiting = run(0, var(), has_symptom(var(), \"Vomiting\"))\n",
    "emergency_diseases = {\"Pneumonia\", \"Heart attack\", \"Drug Reaction\", \"Hypertension\", \"Paralysis (brain hemorrhage)\", \"Jaundice\", \"Malaria\", \"Chickenpox\", \"Dengue\", \"Typhoid\", \"Tuberculosis\"}\n",
    "emergency_diseases_with_vomiting = [disease for disease in emergency_diseases_with_vomiting if disease in emergency_diseases]\n",
    "print(\"Emergency diseases with vomiting as a symptom:\", emergency_diseases_with_vomiting)\n",
    "\n",
    "# Query 5: Which emergency diseases have vomiting and High Fever as symptoms?\n",
    "emergency_diseases_with_vomiting_fever = run(0, var(), has_symptom(var(), \"Vomiting\"), has_symptom(var(), \"High Fever\"))\n",
    "emergency_diseases_with_vomiting_fever = [disease for disease in emergency_diseases_with_vomiting_fever if disease in emergency_diseases]\n",
    "print(\"Emergency diseases with vomiting and High Fever as symptoms:\", emergency_diseases_with_vomiting_fever)\n",
    "\n",
    "# Query 6: What are the common Symptoms of Tuberculosis and the Common Cold?\n",
    "common_symptoms_tb_cold = run(0, var(), have_common_symptom(\"Tuberculosis\", \"Common Cold\", var()))\n",
    "print(\"Common symptoms of Tuberculosis and the Common Cold:\", common_symptoms_tb_cold)\n",
    "\n",
    "# Query 7: What are the different Symptoms of Tuberculosis and the Common Cold?\n",
    "def different_symptom(disease1, disease2, symptom):\n",
    "    return conde((has_symptom(disease1, symptom), ~has_symptom(disease2, symptom)))\n",
    "\n",
    "different_symptoms_tb_cold = run(0, var(), different_symptom(\"Tuberculosis\", \"Common Cold\", var()))\n",
    "print(\"Different symptoms of Tuberculosis and the Common Cold:\", different_symptoms_tb_cold)\n"
   ]
  },
  {
   "cell_type": "code",
   "execution_count": null,
   "id": "c9582196",
   "metadata": {},
   "outputs": [],
   "source": []
  }
 ],
 "metadata": {
  "kernelspec": {
   "display_name": "Python 3 (ipykernel)",
   "language": "python",
   "name": "python3"
  },
  "language_info": {
   "codemirror_mode": {
    "name": "ipython",
    "version": 3
   },
   "file_extension": ".py",
   "mimetype": "text/x-python",
   "name": "python",
   "nbconvert_exporter": "python",
   "pygments_lexer": "ipython3",
   "version": "3.10.9"
  }
 },
 "nbformat": 4,
 "nbformat_minor": 5
}
